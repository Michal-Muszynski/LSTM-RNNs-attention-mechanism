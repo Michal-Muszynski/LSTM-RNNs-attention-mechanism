{
 "cells": [
  {
   "cell_type": "code",
   "execution_count": 51,
   "metadata": {},
   "outputs": [],
   "source": [
    "# importing libraries \n",
    "import numpy as np\n",
    "from attention_utils import get_data # scirpt to genetate data\n",
    "import pandas as pd"
   ]
  },
  {
   "cell_type": "code",
   "execution_count": 52,
   "metadata": {},
   "outputs": [],
   "source": [
    "# import keras\n",
    "# Import necessary modules\n",
    "import keras\n",
    "from keras.layers import Dense\n",
    "from keras.models import Sequential\n",
    "from keras.models import Model"
   ]
  },
  {
   "cell_type": "code",
   "execution_count": 53,
   "metadata": {},
   "outputs": [],
   "source": [
    "# Generate data\n",
    "# training set\n",
    "input_dim = 32\n",
    "N_train = 10000\n",
    "N_test = 2000\n",
    "N_valid = 2000\n",
    "# training set\n",
    "#X_train, Y_train = get_data(N_train, input_dim) # columns are features , rows are observations\n",
    "# valisation set\n",
    "#X_valid, Y_valid = get_data(N_valid, input_dim) # columns are features , rows are observations\n",
    "# testing set\n",
    "#X_test, Y_test = get_data(N_test, input_dim) # columns are features , rows are observations\n",
    "#import csv\n",
    "#with open('Test_set_1L_AC_aud_feat_win5_lag1_gsr.csv') as csvfile:\n",
    "#    readCSV = csv.reader(csvfile, delimiter=',')\n",
    "X_test=pd.read_csv('Test_set_1L_AC_aud_feat_win5_lag1_gsr.csv', sep=',',header=None) # reading ok\n",
    "#X_test.values\n",
    "X_train=pd.read_csv('Train_set_1L_AC_aud_feat_win5_lag1_gsr.csv', sep=',',header=None)\n",
    "Y_test=pd.read_csv('Test_set_synch_feat_win5_lag1_Awe.csv', sep=',',header=None)\n",
    "Y_train=pd.read_csv('Train_set_synch_feat_win5_lag1_Awe.csv', sep=',',header=None)"
   ]
  },
  {
   "cell_type": "code",
   "execution_count": 54,
   "metadata": {},
   "outputs": [
    {
     "name": "stdout",
     "output_type": "stream",
     "text": [
      "1100\n"
     ]
    }
   ],
   "source": [
    "n_features = X_train.shape[1] # columns are features , rows are observations\n",
    "print(n_features)"
   ]
  },
  {
   "cell_type": "code",
   "execution_count": 55,
   "metadata": {},
   "outputs": [
    {
     "name": "stdout",
     "output_type": "stream",
     "text": [
      "19428\n"
     ]
    }
   ],
   "source": [
    "n_observation = X_train.shape[0] # columns are features , rows are observations\n",
    "print(n_observation)"
   ]
  },
  {
   "cell_type": "code",
   "execution_count": 56,
   "metadata": {},
   "outputs": [],
   "source": [
    "# Set up the model: model\n",
    "def build_model():\n",
    "    model = Sequential() # only consecutive layers are connected \n",
    "    # Add the first layer\n",
    "    model.add(Dense(50, activation='relu', input_shape=(n_features,))) # dense means that all nodes from previous and current layer are conntected \n",
    "    # input_shape=(n_features,) size of observation without specifying its amount\n",
    "    # Add the second layer\n",
    "    model.add(Dense(32, activation='relu'))\n",
    "    # Add the output layer\n",
    "    model.add(Dense(1)) # scalar output\n",
    "    return model\n"
   ]
  },
  {
   "cell_type": "code",
   "execution_count": 57,
   "metadata": {},
   "outputs": [],
   "source": [
    "# Compiling\n",
    "MLP = build_model()\n",
    "MLP.compile(optimizer='adam', loss='mean_squared_error') # solver and type of loss function\n"
   ]
  },
  {
   "cell_type": "code",
   "execution_count": 58,
   "metadata": {},
   "outputs": [
    {
     "name": "stdout",
     "output_type": "stream",
     "text": [
      "Loss function: mean_squared_error\n"
     ]
    }
   ],
   "source": [
    "# MSE for regression\n",
    "       print(\"Loss function: \" + MLP.loss)  # info"
   ]
  },
  {
   "cell_type": "code",
   "execution_count": 59,
   "metadata": {},
   "outputs": [
    {
     "name": "stdout",
     "output_type": "stream",
     "text": [
      "Epoch 1/1\n",
      "19428/19428 [==============================] - 1s 64us/step - loss: 0.0120\n"
     ]
    },
    {
     "data": {
      "text/plain": [
       "<keras.callbacks.History at 0xb2efe6cf8>"
      ]
     },
     "execution_count": 59,
     "metadata": {},
     "output_type": "execute_result"
    }
   ],
   "source": [
    "#fitting a model\n",
    "MLP.fit(X_train, Y_train)\n"
   ]
  },
  {
   "cell_type": "code",
   "execution_count": 60,
   "metadata": {},
   "outputs": [],
   "source": [
    "# testing\n",
    "predictions = MLP.predict(X_test)"
   ]
  },
  {
   "cell_type": "code",
   "execution_count": 61,
   "metadata": {},
   "outputs": [
    {
     "name": "stdout",
     "output_type": "stream",
     "text": [
      "[[0.4228999 ]\n",
      " [0.398061  ]\n",
      " [0.41621557]\n",
      " ...\n",
      " [0.38727316]\n",
      " [0.39907318]\n",
      " [0.44451857]]\n"
     ]
    }
   ],
   "source": [
    "print(predictions)"
   ]
  },
  {
   "cell_type": "code",
   "execution_count": null,
   "metadata": {},
   "outputs": [],
   "source": []
  },
  {
   "cell_type": "code",
   "execution_count": null,
   "metadata": {},
   "outputs": [],
   "source": []
  }
 ],
 "metadata": {
  "kernelspec": {
   "display_name": "Python 3",
   "language": "python",
   "name": "python3"
  },
  "language_info": {
   "codemirror_mode": {
    "name": "ipython",
    "version": 3
   },
   "file_extension": ".py",
   "mimetype": "text/x-python",
   "name": "python",
   "nbconvert_exporter": "python",
   "pygments_lexer": "ipython3",
   "version": "3.6.8"
  }
 },
 "nbformat": 4,
 "nbformat_minor": 2
}
